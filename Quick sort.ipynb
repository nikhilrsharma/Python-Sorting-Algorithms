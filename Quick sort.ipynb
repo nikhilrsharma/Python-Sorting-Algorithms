{
 "cells": [
  {
   "cell_type": "code",
   "execution_count": 3,
   "metadata": {},
   "outputs": [
    {
     "name": "stdout",
     "output_type": "stream",
     "text": [
      "[5, 9, 1, 2, 4, 8, 6, 3, 7]\n",
      "[1, 2, 3, 4, 5, 6, 7, 8, 9]\n"
     ]
    }
   ],
   "source": [
    "def quick_sort(A):\n",
    "    quick_sort2(A, 0, len(A)-1)\n",
    "\n",
    "def quick_sort2(A, low, hi):\n",
    "    threshold = 20\n",
    "    if hi-low < threshold and low < hi:\n",
    "        quick_selection(A, low, hi)\n",
    "    elif low < hi:\n",
    "        p = partition(A, low, hi)\n",
    "        quick_sort2(A, low, p - 1)\n",
    "        quick_sort2(A, p + 1, hi)\n",
    "\n",
    "def get_pivot(A, low, hi):\n",
    "    mid = (hi + low) // 2\n",
    "    s = sorted([A[low], A[mid], A[hi]])\n",
    "    if s[1] == A[low]:\n",
    "        return low\n",
    "    elif s[1] == A[mid]:\n",
    "        return mid\n",
    "    return hi\n",
    "\n",
    "def partition(A, low, hi):\n",
    "    pivotIndex = get_pivot(A, low, hi)\n",
    "    pivotValue = A[pivotIndex]\n",
    "    A[pivotIndex], A[low] = A[low], A[pivotIndex]\n",
    "    border = low\n",
    "\n",
    "    for i in range(low, hi+1):\n",
    "        if A[i] < pivotValue:\n",
    "            border += 1\n",
    "            A[i], A[border] = A[border], A[i]\n",
    "    A[low], A[border] = A[border], A[low]\n",
    "\n",
    "    return (border)\n",
    "\n",
    "def quick_selection(x, first, last):\n",
    "    for i in range (first, last):\n",
    "        minIndex = i\n",
    "        for j in range (i+1, last+1):\n",
    "            if x[j] < x[minIndex]:\n",
    "                minIndex = j\n",
    "        if minIndex != i:\n",
    "            x[i], x[minIndex] = x[minIndex], x[i]\n",
    "\n",
    "A = [5,9,1,2,4,8,6,3,7]\n",
    "print(A)\n",
    "quick_sort(A)\n",
    "print(A)"
   ]
  }
 ],
 "metadata": {
  "kernelspec": {
   "display_name": "Python 3",
   "language": "python",
   "name": "python3"
  },
  "language_info": {
   "codemirror_mode": {
    "name": "ipython",
    "version": 3
   },
   "file_extension": ".py",
   "mimetype": "text/x-python",
   "name": "python",
   "nbconvert_exporter": "python",
   "pygments_lexer": "ipython3",
   "version": "3.7.3"
  }
 },
 "nbformat": 4,
 "nbformat_minor": 2
}
