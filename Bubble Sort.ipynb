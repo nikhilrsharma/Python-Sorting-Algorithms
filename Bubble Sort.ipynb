{
 "cells": [
  {
   "cell_type": "code",
   "execution_count": 1,
   "metadata": {},
   "outputs": [
    {
     "name": "stdout",
     "output_type": "stream",
     "text": [
      "[1, 5, 8, 4, 8, 3, 0, 1]\n",
      "[1, 5, 4, 8, 8, 3, 0, 1]\n",
      "[1, 5, 4, 8, 3, 8, 0, 1]\n",
      "[1, 5, 4, 8, 3, 0, 8, 1]\n",
      "[1, 5, 4, 8, 3, 0, 1, 8]\n",
      "[1, 4, 5, 8, 3, 0, 1, 8]\n",
      "[1, 4, 5, 3, 8, 0, 1, 8]\n",
      "[1, 4, 5, 3, 0, 8, 1, 8]\n",
      "[1, 4, 5, 3, 0, 1, 8, 8]\n",
      "[1, 4, 3, 5, 0, 1, 8, 8]\n",
      "[1, 4, 3, 0, 5, 1, 8, 8]\n",
      "[1, 4, 3, 0, 1, 5, 8, 8]\n",
      "[1, 3, 4, 0, 1, 5, 8, 8]\n",
      "[1, 3, 0, 4, 1, 5, 8, 8]\n",
      "[1, 3, 0, 1, 4, 5, 8, 8]\n",
      "[1, 0, 3, 1, 4, 5, 8, 8]\n",
      "[1, 0, 1, 3, 4, 5, 8, 8]\n",
      "[0, 1, 1, 3, 4, 5, 8, 8]\n"
     ]
    }
   ],
   "source": [
    "A = [5,1,8,4,8,3,0,1]\n",
    "\n",
    "for i in range( 0, len(A)-1 ):\n",
    "    for j in range( 0, len(A)-1-i ):\n",
    "        if A[j] > A[j+1]:\n",
    "            A[j], A[j+1] = A[j+1], A[j]\n",
    "            print(A)"
   ]
  }
 ],
 "metadata": {
  "kernelspec": {
   "display_name": "Python 3",
   "language": "python",
   "name": "python3"
  },
  "language_info": {
   "codemirror_mode": {
    "name": "ipython",
    "version": 3
   },
   "file_extension": ".py",
   "mimetype": "text/x-python",
   "name": "python",
   "nbconvert_exporter": "python",
   "pygments_lexer": "ipython3",
   "version": "3.7.3"
  }
 },
 "nbformat": 4,
 "nbformat_minor": 2
}
