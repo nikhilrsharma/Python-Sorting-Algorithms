{
 "cells": [
  {
   "cell_type": "code",
   "execution_count": 2,
   "metadata": {},
   "outputs": [
    {
     "name": "stdout",
     "output_type": "stream",
     "text": [
      "[1, 3, 6, 3, 2, 4, 5]\n",
      "[1, 2, 6, 3, 3, 4, 5]\n",
      "[1, 2, 3, 6, 3, 4, 5]\n",
      "[1, 2, 3, 3, 6, 4, 5]\n",
      "[1, 2, 3, 3, 4, 6, 5]\n",
      "[1, 2, 3, 3, 4, 5, 6]\n"
     ]
    }
   ],
   "source": [
    " A= [5,3,6,3,2,4,1]\n",
    "    \n",
    "for i in range( 0, len(A)-1 ):\n",
    "    minindex = i\n",
    "    \n",
    "    for j in range( i+1, len(A) ):\n",
    "        if A[minindex] > A[j]:\n",
    "            minindex = j\n",
    "    \n",
    "    if minindex!=i:\n",
    "        A[minindex], A[i] = A[i], A[minindex]\n",
    "        print(A)"
   ]
  }
 ],
 "metadata": {
  "kernelspec": {
   "display_name": "Python 3",
   "language": "python",
   "name": "python3"
  },
  "language_info": {
   "codemirror_mode": {
    "name": "ipython",
    "version": 3
   },
   "file_extension": ".py",
   "mimetype": "text/x-python",
   "name": "python",
   "nbconvert_exporter": "python",
   "pygments_lexer": "ipython3",
   "version": "3.7.3"
  }
 },
 "nbformat": 4,
 "nbformat_minor": 2
}
