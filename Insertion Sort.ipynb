{
 "cells": [
  {
   "cell_type": "code",
   "execution_count": 10,
   "metadata": {},
   "outputs": [
    {
     "name": "stdout",
     "output_type": "stream",
     "text": [
      "Original: [5, 0, 3, 1, 4, 2]\n",
      "Sorted:   [0, 5, 3, 1, 4, 2]\n",
      "Sorted:   [0, 3, 5, 1, 4, 2]\n",
      "          Do Nothing\n",
      "Sorted:   [0, 3, 1, 5, 4, 2]\n",
      "Sorted:   [0, 1, 3, 5, 4, 2]\n",
      "          Do Nothing\n",
      "Sorted:   [0, 1, 3, 4, 5, 2]\n",
      "          Do Nothing\n",
      "          Do Nothing\n",
      "          Do Nothing\n",
      "Sorted:   [0, 1, 3, 4, 2, 5]\n",
      "Sorted:   [0, 1, 3, 2, 4, 5]\n",
      "Sorted:   [0, 1, 2, 3, 4, 5]\n",
      "          Do Nothing\n",
      "          Do Nothing\n"
     ]
    }
   ],
   "source": [
    "# using FOR loop\n",
    "\n",
    "A = [5,0,3,1,4,2]\n",
    "\n",
    "print(\"Original:\", A)\n",
    "\n",
    "for i in range ( 1, len(A) ):\n",
    "    for j in range (i-1, -1, -1):\n",
    "        if A[j] > A[j+1]:\n",
    "            A[j], A[j+1] = A[j+1], A[j]\n",
    "            print(\"Sorted:  \", A)\n",
    "        else:\n",
    "            print(\"          Do Nothing\")"
   ]
  },
  {
   "cell_type": "code",
   "execution_count": 14,
   "metadata": {},
   "outputs": [
    {
     "name": "stdout",
     "output_type": "stream",
     "text": [
      "[0, 5, 3, 1, 4, 2]\n",
      "[0, 3, 5, 1, 4, 2]\n",
      "[0, 3, 1, 5, 4, 2]\n",
      "[0, 1, 3, 5, 4, 2]\n",
      "[0, 1, 3, 4, 5, 2]\n",
      "[0, 1, 3, 4, 2, 5]\n",
      "[0, 1, 3, 2, 4, 5]\n",
      "[0, 1, 2, 3, 4, 5]\n"
     ]
    }
   ],
   "source": [
    "# using WHILE loop\n",
    "\n",
    "A = [5,0,3,1,4,2]\n",
    "\n",
    "for i in range(1, len(A)):\n",
    "    j = i-1\n",
    "    while A[j] > A[j+1] and j >= 0:\n",
    "        A[j], A[j+1] = A[j+1], A[j]\n",
    "        print(A)\n",
    "        j=j-1"
   ]
  }
 ],
 "metadata": {
  "kernelspec": {
   "display_name": "Python 3",
   "language": "python",
   "name": "python3"
  },
  "language_info": {
   "codemirror_mode": {
    "name": "ipython",
    "version": 3
   },
   "file_extension": ".py",
   "mimetype": "text/x-python",
   "name": "python",
   "nbconvert_exporter": "python",
   "pygments_lexer": "ipython3",
   "version": "3.7.3"
  }
 },
 "nbformat": 4,
 "nbformat_minor": 2
}
